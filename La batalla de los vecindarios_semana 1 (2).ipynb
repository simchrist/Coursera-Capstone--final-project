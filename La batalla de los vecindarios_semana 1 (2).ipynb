{
 "cells": [
  {
   "cell_type": "markdown",
   "id": "fb1b4fe4",
   "metadata": {},
   "source": [
    "\n",
    "DEFINICIÓN DEL PROBLEMA COMERCIAL\n",
    "\n",
    "Un grupo de inversionistas  quieren hacer un estudio en la  comunidad  de Madrid para determinar la localidad con mayor potencial para desarrollar  un proyecto de restauración multicultural y internacional / abrir un grande restaurante donde se puede encontrar al menos 5 comidas de al menos un país de al menos 3 continentes del mundo. \n",
    "\n",
    "Nuestro trabajo es de recomendar a los inversionistas la localidad adecuada en Madrid para invertir\n",
    "\n",
    "\n",
    "DATOS Y DESCRIPCIÓN DEL USO\n",
    "Los datos necesarios para este análisis son:\n",
    "\n",
    "Localidades  de la comunidad de Madrid: Las municipios   más importantes de la ciudad de Madrid  y una lista del top 10, ya que son las localidades con mas población tanto de españoles como de otras nacionalidades  y más infraestructuras son pertinente la mejor opción para tener en cuenta en el lugar deseado para invertir, datos obtenidos de Wikipedia: https://es.wikipedia.org/wiki/Anexo:Municipios_de_la_Comunidad_de_Madrid\n",
    "\n",
    "Coordenadas geográficas de la Comunidad de Madrid: Datos geográficos  y de los lugares más populares /más representativas poblacionalmente  para tener una mayor idea en que ciudades conviene desarrollar el proyecto, datos a obtener de la página Foursquare: https://es.foursquare.com/developers/projects\n",
    "\n",
    "\n",
    "\n",
    "\n",
    "\n"
   ]
  }
 ],
 "metadata": {
  "kernelspec": {
   "display_name": "Python 3 (ipykernel)",
   "language": "python",
   "name": "python3"
  },
  "language_info": {
   "codemirror_mode": {
    "name": "ipython",
    "version": 3
   },
   "file_extension": ".py",
   "mimetype": "text/x-python",
   "name": "python",
   "nbconvert_exporter": "python",
   "pygments_lexer": "ipython3",
   "version": "3.9.13"
  }
 },
 "nbformat": 4,
 "nbformat_minor": 5
}
