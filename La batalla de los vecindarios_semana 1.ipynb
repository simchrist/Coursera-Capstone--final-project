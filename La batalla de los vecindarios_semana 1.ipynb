{
 "cells": [
  {
   "cell_type": "code",
   "execution_count": null,
   "id": "7bea9758",
   "metadata": {},
   "outputs": [],
   "source": [
    "#DEFINICIÓN DEL PROBLEMA COMERCIAL#\n",
    "\n",
    "Un grupo de inversionistas quieren desarrollar un proyecto de restauración multicultural en New york. Se trata para ellos de abrir un grande restaurante donde se encontrara las comidas típicas de varios países.\n",
    " New York es una ciudad más importante y grande capital.  Es un lugar muy atractivo y cosmopolita con más población tanto de estadounidenses como de otros  extranjeros y/o turistas, tiene más infraestructuras, empresas  y es de gran interés para cualquier proyecto empresarial.  \n",
    "Nuestro trabajo es de hacer un estudio/análisis para determinar y recomendar a ellos la  localidad de New york la más adecuada para el éxito y la rentabilidad del proyecto y también la mejor opción par desarollarlo   . Por el ejemplo podríamos recomendar al final de centrar el proyecto de restaurante multicultural sobre comidas de países que no tienen ninguno restaurante o que son escasos de encontrar ( hay solo 1 o 2)  en New York porque triaría mas clientes dado que sería el único restaurante o tendría menos concurrencia comercial.\n",
    "\n",
    "\n"
   ]
  },
  {
   "cell_type": "code",
   "execution_count": null,
   "id": "959d7dbc",
   "metadata": {},
   "outputs": [],
   "source": [
    "#DATOS  Y DESCRIPTION DE SU USO#\n",
    "Para desarrollar este estudio,  obtendremos los datos de la página Foursquare :https://es.foursquare.com/developers/projects\n",
    "Los datos que vamos a usar tomarán en cuenta 7 principales  variables distintos no exclusivas\n",
    "Variable 1: code ID\n",
    "Variable 2: nombre\n",
    "Variable 3: ubicación\n",
    "Variable 4: lugar o localidad\n",
    "Variable 5: Código postal\n",
    "Variable 6: Región\n",
    "Variable 7: Geocodes (latitude, longitude..etc)\n",
    "Explorando los lugares y  restaurantes en la ciudad de New York usando nuestro  url siguiente: https: //api.foursquare.com/v3/places/search?query=Restaurant&radius=500&categories=13000&sort=RELEVANCE&limit=50'\n",
    "Hemos obtenidos  estas respuestas por ejemplo:\n",
    "Ejemplo 1\n",
    "id:13199,\n",
    "name:Indian Restaurant\",\n",
    "link: \"/v3/places/6a9d3d2d303b4139919a3a34\",\n",
    " address: 20630 Ashburn Rd,\n",
    " census_block: \"511076110142012\",\n",
    "        \"country\": \"US\",\n",
    "        \"dma\": \"Washington, Dc-Hagrstwn\",\n",
    "        \"formatted_address\": \"20630 Ashburn Rd, Ashburn, VA 20147\",\n",
    "        \"locality\": \"Ashburn\",\n",
    "        \"postcode\": \"20147\",\n",
    "        \"region\": \"VA\"\n",
    "Ejemplo 2\n",
    "\"id\": 13236,\n",
    " \"name\": \"Italian Restaurant\",          \n",
    "      \"distance\": 455,\n",
    "      \"geocodes\": {\n",
    "        \"main\": {\n",
    "        latitude: 39.046883,\n",
    "          \"longitude\": -77.485023\n",
    "        location\": {\n",
    "        \"address\": \"20630 Ashburn Rd\",\n",
    "        \"address_extended\": \"Ste 183\",\n",
    "        \"census_block\": \"511076110142012\",\n",
    "        \"country\": \"US\",\n",
    "        \"dma\": \"Washington, Dc-Hagrstwn\",\n",
    "        \"formatted_address\": \"20630 Ashburn Rd, Ashburn, VA 20147\",\n",
    "        \"locality\": \"Ashburn\",\n",
    "        \"postcode\": \"20147\",\n",
    "        \"region\": \"VA\"\n",
    "\n"
   ]
  },
  {
   "cell_type": "code",
   "execution_count": null,
   "id": "c8907c2f",
   "metadata": {},
   "outputs": [],
   "source": [
    "\n",
    "Vamos a  explorar los lugares de los diferentes restaurantes \n",
    "y sobre todos las que están especializados en comidas extranjeros (italiana, greca, española, china, francesa, africana...etc) \n",
    "Evaluaremos la  ubicación,  (mejor posición, distancia), la recurrencia. \n",
    "Agruparemos  y mostraremos los restaurantes más importantes (una lista del top 10)  de la ciudad, \n",
    "sus ubicaciones y comidas típicas principales.\n"
   ]
  }
 ],
 "metadata": {
  "kernelspec": {
   "display_name": "Python 3 (ipykernel)",
   "language": "python",
   "name": "python3"
  },
  "language_info": {
   "codemirror_mode": {
    "name": "ipython",
    "version": 3
   },
   "file_extension": ".py",
   "mimetype": "text/x-python",
   "name": "python",
   "nbconvert_exporter": "python",
   "pygments_lexer": "ipython3",
   "version": "3.9.13"
  }
 },
 "nbformat": 4,
 "nbformat_minor": 5
}
