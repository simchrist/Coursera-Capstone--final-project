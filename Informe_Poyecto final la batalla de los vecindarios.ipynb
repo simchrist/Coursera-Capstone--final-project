{
 "cells": [
  {
   "cell_type": "code",
   "execution_count": null,
   "id": "9f75cd8b",
   "metadata": {},
   "outputs": [],
   "source": [
    "#Proyecto Final Batalla de los Vecindarios\n",
    "Introducción: Definición del Problema\n",
    "Descripción de los Datos y uso\n",
    "Methodologia\n",
    "Resultados\n",
    "Conclusion"
   ]
  },
  {
   "cell_type": "code",
   "execution_count": null,
   "id": "966ce3c3",
   "metadata": {},
   "outputs": [],
   "source": [
    "#DEFINICIÓN DEL PROBLEMA COMERCIAL \n",
    "\n",
    "Un grupo de inversionistas quieren desarrollar un proyecto de restauración multicultural en New york. \n",
    "Se trata para ellos de abrir un grande restaurante donde se encontrara \n",
    "las comidas típicas de varios países intercontinentales.New York es una ciudad más importante y grande capital.  \n",
    "Es un lugar muy atractivo y cosmopolita con más población tanto de estadounidenses como de otros  extranjeros y/o turistas, \n",
    "tiene más infraestructuras, empresas  y es de gran interés para cualquier proyecto empresarial.  \n",
    "Nuestro trabajo es de hacer un estudio/análisis para determinar y recomendar a ellos las  localidades de New york \n",
    "las más adecuadas para el éxito y la rentabilidad del proyecto y también la mejor opción para desarrollarlo. \n",
    "Por el ejemplo podríamos recomendar al final de abrir el restaurante multicultural en una de las localidades de new york las más atractivas y poblabas (más importantes en términos de dotación material y presencia humana regular) para más visibilidad y garantía de rentabilidad a largo plazo. \n",
    "También  podemos recomendar quizás centrar el proyecto  sobre comidas de países que no tienen ninguno restaurante\n",
    "o que son escasos de encontrar (hay solo 1 o 2)en New York porque triaría más clientes dado que sería el único restaurante \n",
    "o tendría menos concurrencia comercial."
   ]
  },
  {
   "cell_type": "code",
   "execution_count": null,
   "id": "2100029e",
   "metadata": {},
   "outputs": [],
   "source": [
    "#DATOS  Y DESCRIPTION DE SU USO\n",
    "Para desarrollar  este estudio y solucionar el problema,  obtendremos los datos de la plataforma Google \n",
    "principalmente  datos de ubicación geográfica de la API de Google Place que dispone de informaciones \n",
    "sobre establecimientos en la ciudad de Nueva York, como coordenadas geográficas y tipos de establecimientos. \n",
    "Estos datos nos permiten analizar la distribución geográfica de los lugares y agruparlos según su proximidad. \n",
    "Los datos incluirán informaciones sobre la ubicación geográfica (latitud y longitud), tipos de establecimientos \n",
    "y popularidad. Estos datos nos permitirán al final identificar áreas de alta y baja popularidad o visibilidad, \n",
    "lo que nos permitirá recomendar ubicaciones adecuadas para abrir un restaurante multicultural.\n",
    "\n",
    "\n"
   ]
  },
  {
   "cell_type": "code",
   "execution_count": null,
   "id": "7d1d7155",
   "metadata": {},
   "outputs": [],
   "source": [
    "#METODOLOGÍA\n",
    "Procedemos por método de agrupación.  \n",
    "Se tratara aquí de K-means, un algoritmo de aprendizaje no supervisado que busca encontrar K centroides \n",
    "y asignar cada observación al centroide más cercano. En este caso, las observaciones son lugares \n",
    "y las características utilizadas para el clustering son las coordenadas geográficas (latitud y longitud). \n",
    "Agruparemos y segmentaremos  los lugares en función de su ubicación geográfica. Es decir según la distancia y  la cercanía. \n",
    "Buscaremos la distancia máxima entre los diferentes clústeres y la mínima entre los componentes de cada clúster. \n",
    "En breve, visualizamos los clústeres en un mapa y analizamos la cantidad de lugares en cada clúster \n",
    "para obtener una visión cuantitativa de las áreas con mayor población y  concentración de establecimientos \n",
    "en la ciudad de Nueva York. \n",
    "\n"
   ]
  },
  {
   "cell_type": "code",
   "execution_count": null,
   "id": "d9f11d9c",
   "metadata": {},
   "outputs": [],
   "source": [
    "\n",
    "#RESULTADOS\n",
    "La aplicación de nuestro método de agrupación por clustering nos permite visualizar \n",
    "los lugares de la ciudad de New york en el mapa generado y la presencia de los diferentes \n",
    "clústeres en esto. Podemos así apreciar la distribución cuantitativa, agrupada y segmentada \n",
    "de las localidades más importantes en términos de término de densidad humana (más pobladas) \n",
    "es decir popularidad o visibilidad y en términos de densidad material \n",
    "es decir más  infraestructuras o establecimientos. Estos resultados \n",
    "nos permiten resolver la problemática inicial y recomendar el lugar de New York\n",
    "lo más adecuado económicamente  a los inversionistas para abrir  el restaurante multicultural.\n",
    " "
   ]
  },
  {
   "cell_type": "code",
   "execution_count": null,
   "id": "f44160fb",
   "metadata": {},
   "outputs": [],
   "source": [
    "#CONCLUSION\n",
    "Se trataba en este proyecto  de recomendar \n",
    "a un grupo de inversionistas los lugares \n",
    "de la ciudad de New York los más adecuados \n",
    "en término de rentabilidad a largo plazo para abrir un restaurante multicultural\n",
    "donde se encontrara  comidas de varios países intercontinentales. \n",
    "Gracias al método de agrupación por clustering, hemos podido explorar \n",
    "y analizar  la distribución de  los lugares en la ciudad de Nueva York,  \n",
    "agruparlas y segmentarlas según la distancia y sobre todo según la concentración humana y  material.\n",
    "Observemos que la zona la más representada en estos criterios \n",
    "como mejor elección de lugares de recomendación para abrir un restaurante multicultural es Manhattan.\n",
    "\n"
   ]
  }
 ],
 "metadata": {
  "kernelspec": {
   "display_name": "Python 3 (ipykernel)",
   "language": "python",
   "name": "python3"
  },
  "language_info": {
   "codemirror_mode": {
    "name": "ipython",
    "version": 3
   },
   "file_extension": ".py",
   "mimetype": "text/x-python",
   "name": "python",
   "nbconvert_exporter": "python",
   "pygments_lexer": "ipython3",
   "version": "3.9.13"
  }
 },
 "nbformat": 4,
 "nbformat_minor": 5
}
